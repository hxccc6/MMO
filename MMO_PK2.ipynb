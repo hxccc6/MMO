{
  "nbformat": 4,
  "nbformat_minor": 0,
  "metadata": {
    "colab": {
      "provenance": [],
      "toc_visible": true
    },
    "kernelspec": {
      "name": "python3",
      "display_name": "Python 3"
    },
    "language_info": {
      "name": "python"
    }
  },
  "cells": [
    {
      "cell_type": "code",
      "execution_count": 23,
      "metadata": {
        "colab": {
          "base_uri": "https://localhost:8080/"
        },
        "id": "lsoz3nvIGuNc",
        "outputId": "e5d45071-d1c6-44a1-ae83-8bc682c53a1d"
      },
      "outputs": [
        {
          "output_type": "stream",
          "name": "stdout",
          "text": [
            "Requirement already satisfied: nltk in /usr/local/lib/python3.10/dist-packages (3.8.1)\n",
            "Requirement already satisfied: click in /usr/local/lib/python3.10/dist-packages (from nltk) (8.1.7)\n",
            "Requirement already satisfied: joblib in /usr/local/lib/python3.10/dist-packages (from nltk) (1.4.2)\n",
            "Requirement already satisfied: regex>=2021.8.3 in /usr/local/lib/python3.10/dist-packages (from nltk) (2023.12.25)\n",
            "Requirement already satisfied: tqdm in /usr/local/lib/python3.10/dist-packages (from nltk) (4.66.4)\n"
          ]
        }
      ],
      "source": [
        "pip install nltk"
      ]
    },
    {
      "cell_type": "code",
      "source": [
        "import numpy as np\n",
        "import pandas as pd\n",
        "from sklearn.feature_extraction.text import CountVectorizer, TfidfVectorizer\n",
        "from sklearn.model_selection import train_test_split\n",
        "from sklearn.svm import LinearSVC\n",
        "from sklearn.linear_model import LogisticRegression\n",
        "from sklearn.metrics import accuracy_score, classification_report\n",
        "import nltk\n",
        "from nltk.corpus import movie_reviews\n",
        "import random\n"
      ],
      "metadata": {
        "id": "FQvRMQO1Gyvc"
      },
      "execution_count": 12,
      "outputs": []
    },
    {
      "cell_type": "code",
      "source": [
        "# Загрузите и прочитайте набор данных рецензий на фильмы IMDb\n",
        "nltk.download('movie_reviews')"
      ],
      "metadata": {
        "colab": {
          "base_uri": "https://localhost:8080/"
        },
        "id": "sQ-z9mTdGyzS",
        "outputId": "0f00a3ad-a4a9-4241-fcc1-c8e3acaa9016"
      },
      "execution_count": 13,
      "outputs": [
        {
          "output_type": "stream",
          "name": "stderr",
          "text": [
            "[nltk_data] Downloading package movie_reviews to /root/nltk_data...\n",
            "[nltk_data]   Unzipping corpora/movie_reviews.zip.\n"
          ]
        },
        {
          "output_type": "execute_result",
          "data": {
            "text/plain": [
              "True"
            ]
          },
          "metadata": {},
          "execution_count": 13
        }
      ]
    },
    {
      "cell_type": "code",
      "source": [
        "documents = [(list(movie_reviews.words(fileid)), category)\n",
        "             for category in movie_reviews.categories()\n",
        "             for fileid in movie_reviews.fileids(category)]\n",
        "random.shuffle(documents)\n"
      ],
      "metadata": {
        "id": "GSqhM1KIM9b8"
      },
      "execution_count": 14,
      "outputs": []
    },
    {
      "cell_type": "code",
      "source": [
        "\n",
        "# Преобразование документов в DataFrame\n",
        "reviews = [' '.join(words) for words, category in documents]\n",
        "sentiments = [category for words, category in documents]\n",
        "data = pd.DataFrame({'review': reviews, 'sentiment': sentiments})"
      ],
      "metadata": {
        "id": "GYrgA5f-NB4l"
      },
      "execution_count": 15,
      "outputs": []
    },
    {
      "cell_type": "code",
      "source": [
        "# Просмотр информации о наборе данных\n",
        "print(data.head())\n",
        "print(data.info())"
      ],
      "metadata": {
        "colab": {
          "base_uri": "https://localhost:8080/"
        },
        "id": "sF7NC_aUND9Q",
        "outputId": "c2842c87-62da-4176-b634-31b1885ac342"
      },
      "execution_count": 16,
      "outputs": [
        {
          "output_type": "stream",
          "name": "stdout",
          "text": [
            "                                              review sentiment\n",
            "0  chill factor is a carbon copy of speed with on...       neg\n",
            "1  in the year 2029 , captain leo davidson ( mark...       neg\n",
            "2  gord brody ( tom green ) is an aspiring animat...       neg\n",
            "3  it was once said that in order to truly enjoy ...       neg\n",
            "4  synopsis : captain picard and the crew of the ...       pos\n",
            "<class 'pandas.core.frame.DataFrame'>\n",
            "RangeIndex: 2000 entries, 0 to 1999\n",
            "Data columns (total 2 columns):\n",
            " #   Column     Non-Null Count  Dtype \n",
            "---  ------     --------------  ----- \n",
            " 0   review     2000 non-null   object\n",
            " 1   sentiment  2000 non-null   object\n",
            "dtypes: object(2)\n",
            "memory usage: 31.4+ KB\n",
            "None\n"
          ]
        }
      ]
    },
    {
      "cell_type": "code",
      "source": [
        "# Предварительная обработка данных\n",
        "X = data['review']\n",
        "y = data['sentiment'].map({'pos': 1, 'neg': 0})  # 将情感标签转换为二分类"
      ],
      "metadata": {
        "id": "ks109eD1NFVI"
      },
      "execution_count": 24,
      "outputs": []
    },
    {
      "cell_type": "code",
      "source": [
        "# Разделите обучающее и тестовое множество\n",
        "X_train, X_test, y_train, y_test = train_test_split(X, y, test_size=0.2, random_state=42)\n",
        "\n",
        "# CountVectorizer\n",
        "count_vect = CountVectorizer(stop_words='english')\n",
        "X_train_count = count_vect.fit_transform(X_train)\n",
        "X_test_count = count_vect.transform(X_test)"
      ],
      "metadata": {
        "id": "uitHrEBKNJgV"
      },
      "execution_count": 25,
      "outputs": []
    },
    {
      "cell_type": "code",
      "source": [
        "# TfidfVectorizer\n",
        "tfidf_vect = TfidfVectorizer(stop_words='english')\n",
        "X_train_tfidf = tfidf_vect.fit_transform(X_train)\n",
        "X_test_tfidf = tfidf_vect.transform(X_test)"
      ],
      "metadata": {
        "id": "BJu_qXgoNMGB"
      },
      "execution_count": 26,
      "outputs": []
    },
    {
      "cell_type": "code",
      "source": [
        "models = {\n",
        "    'LinearSVC (CountVectorizer)': LinearSVC(),\n",
        "    'LogisticRegression (CountVectorizer)': LogisticRegression(max_iter=1000),\n",
        "    'LinearSVC (TfidfVectorizer)': LinearSVC(),\n",
        "    'LogisticRegression (TfidfVectorizer)': LogisticRegression(max_iter=1000)\n",
        "}"
      ],
      "metadata": {
        "id": "y-DQKGEHNNIs"
      },
      "execution_count": 21,
      "outputs": []
    },
    {
      "cell_type": "code",
      "source": [
        "# Модели обучения и оценки\n",
        "for name, model in models.items():\n",
        "    if 'CountVectorizer' in name:\n",
        "        model.fit(X_train_count, y_train)\n",
        "        y_pred = model.predict(X_test_count)\n",
        "    else:\n",
        "        model.fit(X_train_tfidf, y_train)\n",
        "        y_pred = model.predict(X_test_tfidf)\n",
        "\n",
        "    print(f\"Results for {name}:\")\n",
        "    print(f\"Accuracy: {accuracy_score(y_test, y_pred)}\")\n",
        "    print(classification_report(y_test, y_pred))\n",
        "    print(\"=\"*60)"
      ],
      "metadata": {
        "colab": {
          "base_uri": "https://localhost:8080/"
        },
        "id": "5c_n5X0kNOYa",
        "outputId": "560c54e1-6a8f-41d1-c4ad-b4bbabf78071"
      },
      "execution_count": 22,
      "outputs": [
        {
          "output_type": "stream",
          "name": "stdout",
          "text": [
            "Results for LinearSVC (CountVectorizer):\n",
            "Accuracy: 0.845\n",
            "              precision    recall  f1-score   support\n",
            "\n",
            "           0       0.85      0.85      0.85       209\n",
            "           1       0.84      0.84      0.84       191\n",
            "\n",
            "    accuracy                           0.84       400\n",
            "   macro avg       0.84      0.84      0.84       400\n",
            "weighted avg       0.84      0.84      0.84       400\n",
            "\n",
            "============================================================\n",
            "Results for LogisticRegression (CountVectorizer):\n",
            "Accuracy: 0.85\n",
            "              precision    recall  f1-score   support\n",
            "\n",
            "           0       0.86      0.86      0.86       209\n",
            "           1       0.84      0.84      0.84       191\n",
            "\n",
            "    accuracy                           0.85       400\n",
            "   macro avg       0.85      0.85      0.85       400\n",
            "weighted avg       0.85      0.85      0.85       400\n",
            "\n",
            "============================================================\n",
            "Results for LinearSVC (TfidfVectorizer):\n",
            "Accuracy: 0.855\n",
            "              precision    recall  f1-score   support\n",
            "\n",
            "           0       0.86      0.86      0.86       209\n",
            "           1       0.84      0.85      0.85       191\n",
            "\n",
            "    accuracy                           0.85       400\n",
            "   macro avg       0.85      0.85      0.85       400\n",
            "weighted avg       0.86      0.85      0.86       400\n",
            "\n",
            "============================================================\n",
            "Results for LogisticRegression (TfidfVectorizer):\n",
            "Accuracy: 0.8475\n",
            "              precision    recall  f1-score   support\n",
            "\n",
            "           0       0.87      0.84      0.85       209\n",
            "           1       0.83      0.86      0.84       191\n",
            "\n",
            "    accuracy                           0.85       400\n",
            "   macro avg       0.85      0.85      0.85       400\n",
            "weighted avg       0.85      0.85      0.85       400\n",
            "\n",
            "============================================================\n"
          ]
        }
      ]
    }
  ]
}